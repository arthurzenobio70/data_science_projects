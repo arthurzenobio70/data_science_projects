{
 "cells": [
  {
   "cell_type": "markdown",
   "metadata": {},
   "source": [
    "Projeto Airbnb - Ferramenta de previsão de preço de imóvel para pessoas"
   ]
  },
  {
   "cell_type": "markdown",
   "metadata": {},
   "source": [
    "*Objetivo*\n",
    "\n",
    "Construir um modelo para possibilitar uma pessoa comum que possui um imóvel saber como precificar sua diária.\n",
    "Além disso, permitir que a pessoa que deseja alugar um imóvel possa saber se determinado imóvel está com um preço atrativo ou não, dadas as suas características.\n"
   ]
  },
  {
   "cell_type": "code",
   "execution_count": null,
   "metadata": {},
   "outputs": [],
   "source": []
  }
 ],
 "metadata": {
  "language_info": {
   "name": "python"
  }
 },
 "nbformat": 4,
 "nbformat_minor": 2
}
